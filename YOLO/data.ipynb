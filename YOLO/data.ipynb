{
 "cells": [
  {
   "cell_type": "code",
   "execution_count": 1,
   "id": "initial_id",
   "metadata": {
    "collapsed": true,
    "ExecuteTime": {
     "end_time": "2024-06-17T02:58:28.616857900Z",
     "start_time": "2024-06-17T02:58:05.274394800Z"
    }
   },
   "outputs": [],
   "source": [
    "import torch\n",
    "import numpy as np\n",
    "\n",
    "data_path_train = \"../dataset/sign_mnist_train.csv\"\n",
    "data_path_test  = \"../dataset/sign_mnist_test.csv\"\n",
    "\n",
    "arr_train = np.loadtxt(data_path_train, dtype=np.float32, delimiter=',', skiprows=1)\n",
    "arr_test = np.loadtxt(data_path_test, dtype=np.float32, delimiter=',', skiprows=1)\n",
    "\n",
    "tensor_train = torch.from_numpy(arr_train)\n",
    "tensor_test = torch.from_numpy(arr_test)\n",
    "\n",
    "# dataset_train = [(row[1:].to(torch.float64).reshape(28, 28).unsqueeze(0), row[0].item()) for row in tensor_train]\n",
    "# dataset_train = [(row[1:].reshape(28, 28).unsqueeze(0), row[0].to(torch.int).item()) for row in tensor_train]\n",
    "dataset_train = [(row[1:].reshape(28, 28).unsqueeze(0), row[0].item()) for row in tensor_train]\n",
    "dataset_test = [(row[1:].reshape(28, 28).unsqueeze(0), row[0].item()) for row in tensor_test]"
   ]
  },
  {
   "cell_type": "code",
   "outputs": [],
   "source": [
    "dataset_train = [(img/255.0, int(label)) for (img, label) in dataset_train]\n",
    "dataset_test = [(img/255.0, int(label)) for (img, label) in dataset_test]"
   ],
   "metadata": {
    "collapsed": false,
    "ExecuteTime": {
     "end_time": "2024-06-17T02:58:33.700447400Z",
     "start_time": "2024-06-17T02:58:32.265766500Z"
    }
   },
   "id": "55f26ce0cba63532",
   "execution_count": 2
  },
  {
   "cell_type": "code",
   "outputs": [
    {
     "data": {
      "text/plain": "<matplotlib.image.AxesImage at 0x20d450ea1d0>"
     },
     "execution_count": 3,
     "metadata": {},
     "output_type": "execute_result"
    },
    {
     "data": {
      "text/plain": "<Figure size 640x480 with 1 Axes>",
      "image/png": "[encoded data removed]"
     },
     "metadata": {},
     "output_type": "display_data"
    }
   ],
   "source": [
    "img, lbl = dataset_train[23]\n",
    "\n",
    "from matplotlib import pyplot as plt\n",
    "plt.imshow(img.permute(1,2,0))"
   ],
   "metadata": {
    "collapsed": false,
    "ExecuteTime": {
     "end_time": "2024-06-17T01:33:40.668590400Z",
     "start_time": "2024-06-17T01:33:40.280746200Z"
    }
   },
   "id": "e7365932529e379e",
   "execution_count": 3
  },
  {
   "cell_type": "code",
   "outputs": [],
   "source": [
    "from torchvision.utils import save_image\n",
    "\n",
    "counter = 0\n",
    "\n",
    "for (img, label) in dataset_train:\n",
    "    # save_image(img, \"./dataset_for_yolo/train/images/img\" + str(counter) + \".jpg\")\n",
    "    f = open(\"./dataset_for_yolo/train/labels/img\" + str(counter) + \".txt\", \"w\")\n",
    "    f.write(\"\" + str(label) + \" 0.5 0.5 1.0 1.0\")\n",
    "    f.close()\n",
    "    counter += 1"
   ],
   "metadata": {
    "collapsed": false,
    "ExecuteTime": {
     "end_time": "2024-06-17T02:59:43.579765900Z",
     "start_time": "2024-06-17T02:59:35.076301Z"
    }
   },
   "id": "6fdcd78eaf1d629d",
   "execution_count": 3
  },
  {
   "cell_type": "code",
   "outputs": [],
   "source": [],
   "metadata": {
    "collapsed": false
   },
   "id": "f2bb691015bf60a3"
  }
 ],
 "metadata": {
  "kernelspec": {
   "display_name": "Python 3",
   "language": "python",
   "name": "python3"
  },
  "language_info": {
   "codemirror_mode": {
    "name": "ipython",
    "version": 2
   },
   "file_extension": ".py",
   "mimetype": "text/x-python",
   "name": "python",
   "nbconvert_exporter": "python",
   "pygments_lexer": "ipython2",
   "version": "2.7.6"
  }
 },
 "nbformat": 4,
 "nbformat_minor": 5
}
