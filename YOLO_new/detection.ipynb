{
 "cells": [
  {
   "cell_type": "code",
   "source": [
    "import torch\n",
    "from matplotlib import pyplot as plt\n",
    "import numpy as np\n",
    "import cv2\n",
    "\n",
    "# device = torch.device(\"cuda\") if torch.cuda.is_available() else torch.device(\"cpu\")\n",
    "model = torch.hub.load('ultralytics/yolov5', 'custom', path='yolov5/runs/train/exp9/weights/best.pt', force_reload=True)\n",
    "# sum([param.numel() for param in model.parameters()])\n"
   ],
   "metadata": {
    "collapsed": false,
    "ExecuteTime": {
     "end_time": "2024-06-25T05:19:52.433075Z",
     "start_time": "2024-06-25T05:19:42.687054Z"
    }
   },
   "id": "ceb533386a89e2f6",
   "outputs": [
    {
     "name": "stderr",
     "output_type": "stream",
     "text": [
      "Downloading: \"https://github.com/ultralytics/yolov5/zipball/master\" to C:\\Users\\semem/.cache\\torch\\hub\\master.zip\n",
      "YOLOv5  2024-6-24 Python-3.11.9 torch-2.3.0+cu121 CUDA:0 (NVIDIA GeForce RTX 4080 Laptop GPU, 12282MiB)\n",
      "\n",
      "Fusing layers... \n",
      "Model summary: 212 layers, 20953959 parameters, 0 gradients, 48.2 GFLOPs\n",
      "Adding AutoShape... \n"
     ]
    }
   ],
   "execution_count": 2
  },
  {
   "cell_type": "code",
   "source": [
    "import cv2\n",
    "\n",
    "cap = cv2.VideoCapture(0)\n",
    "word = \"\"\n",
    "sentence = []\n",
    "\n",
    "while cap.isOpened():\n",
    "    ret, frame = cap.read()\n",
    "\n",
    "    # Make detections\n",
    "    results = model(frame)\n",
    "\n",
    "    cv2.imshow('YOLO', np.squeeze(results.render()))\n",
    "\n",
    "    if not results.pandas().xyxy[0].empty:\n",
    "        letter = results.pandas().xyxy[0][\"name\"].iloc[0]\n",
    "        if not word or (word and word[-1] != letter):\n",
    "            if letter == '_':\n",
    "                sentence.append(word)\n",
    "                word = \"\"\n",
    "            else:\n",
    "                word += letter\n",
    "\n",
    "    if cv2.waitKey(10) & 0xFF == ord('q'):\n",
    "        break\n",
    "cap.release()\n",
    "cv2.destroyAllWindows()\n",
    "\n",
    "print(word, \"bruh\", sentence)"
   ],
   "metadata": {
    "collapsed": false,
    "ExecuteTime": {
     "end_time": "2024-06-25T05:20:21.144910Z",
     "start_time": "2024-06-25T05:19:55.620439Z"
    }
   },
   "id": "652d36a8b236f1f6",
   "outputs": [
    {
     "name": "stdout",
     "output_type": "stream",
     "text": [
      "GHGAEAEAEAEAEAELYO bruh []\n"
     ]
    }
   ],
   "execution_count": 3
  },
  {
   "cell_type": "code",
   "outputs": [],
   "source": "",
   "metadata": {
    "collapsed": false
   },
   "id": "140f6d8070728334",
   "execution_count": null
  }
 ],
 "metadata": {
  "kernelspec": {
   "display_name": "Python 3",
   "language": "python",
   "name": "python3"
  },
  "language_info": {
   "codemirror_mode": {
    "name": "ipython",
    "version": 2
   },
   "file_extension": ".py",
   "mimetype": "text/x-python",
   "name": "python",
   "nbconvert_exporter": "python",
   "pygments_lexer": "ipython2",
   "version": "2.7.6"
  }
 },
 "nbformat": 4,
 "nbformat_minor": 5
}
