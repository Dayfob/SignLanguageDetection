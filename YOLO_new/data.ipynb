{
 "cells": [
  {
   "cell_type": "code",
   "execution_count": 3,
   "id": "initial_id",
   "metadata": {
    "collapsed": true,
    "ExecuteTime": {
     "end_time": "2024-06-17T20:11:39.285390200Z",
     "start_time": "2024-06-17T20:11:39.275336600Z"
    }
   },
   "outputs": [],
   "source": [
    "# import uuid\n",
    "import os\n",
    "import time"
   ]
  },
  {
   "cell_type": "code",
   "outputs": [],
   "source": [
    "IMAGES_PATH = os.path.join(\"dataset_for_yolo\", \"data\", \"images\")\n",
    "labels = [\"A\", \"B\", \"C\", \"D\", \"E\", \"F\", \"G\", \"H\", \"I\", \"J\", \"K\", \"L\", \"M\", \"N\", \"O\", \"P\", \"Q\", \"R\", \"S\", \"T\", \"U\", \"V\", \"W\", \"X\", \"Y\"]\n",
    "number_imgs = 3"
   ],
   "metadata": {
    "collapsed": false,
    "ExecuteTime": {
     "end_time": "2024-06-17T20:11:40.116409700Z",
     "start_time": "2024-06-17T20:11:40.112902200Z"
    }
   },
   "id": "f2bb691015bf60a3",
   "execution_count": 4
  },
  {
   "cell_type": "code",
   "outputs": [
    {
     "name": "stdout",
     "output_type": "stream",
     "text": [
      "Collecting images for A\n",
      "Collecting images for A 0\n",
      "Collecting images for A 1\n",
      "Collecting images for A 2\n",
      "Collecting images for B\n",
      "Collecting images for B 0\n",
      "Collecting images for B 1\n",
      "Collecting images for B 2\n",
      "Collecting images for C\n",
      "Collecting images for C 0\n",
      "Collecting images for C 1\n",
      "Collecting images for C 2\n",
      "Collecting images for D\n",
      "Collecting images for D 0\n",
      "Collecting images for D 1\n",
      "Collecting images for D 2\n",
      "Collecting images for E\n",
      "Collecting images for E 0\n",
      "Collecting images for E 1\n",
      "Collecting images for E 2\n",
      "Collecting images for F\n",
      "Collecting images for F 0\n",
      "Collecting images for F 1\n",
      "Collecting images for F 2\n",
      "Collecting images for G\n",
      "Collecting images for G 0\n",
      "Collecting images for G 1\n",
      "Collecting images for G 2\n",
      "Collecting images for H\n",
      "Collecting images for H 0\n",
      "Collecting images for H 1\n",
      "Collecting images for H 2\n",
      "Collecting images for I\n",
      "Collecting images for I 0\n",
      "Collecting images for I 1\n",
      "Collecting images for I 2\n",
      "Collecting images for J\n",
      "Collecting images for J 0\n",
      "Collecting images for J 1\n",
      "Collecting images for J 2\n",
      "Collecting images for K\n",
      "Collecting images for K 0\n",
      "Collecting images for K 1\n",
      "Collecting images for K 2\n",
      "Collecting images for L\n",
      "Collecting images for L 0\n",
      "Collecting images for L 1\n",
      "Collecting images for L 2\n",
      "Collecting images for M\n",
      "Collecting images for M 0\n",
      "Collecting images for M 1\n",
      "Collecting images for M 2\n",
      "Collecting images for N\n",
      "Collecting images for N 0\n",
      "Collecting images for N 1\n",
      "Collecting images for N 2\n",
      "Collecting images for O\n",
      "Collecting images for O 0\n",
      "Collecting images for O 1\n",
      "Collecting images for O 2\n",
      "Collecting images for P\n",
      "Collecting images for P 0\n",
      "Collecting images for P 1\n",
      "Collecting images for P 2\n",
      "Collecting images for Q\n",
      "Collecting images for Q 0\n",
      "Collecting images for Q 1\n",
      "Collecting images for Q 2\n",
      "Collecting images for R\n",
      "Collecting images for R 0\n",
      "Collecting images for R 1\n",
      "Collecting images for R 2\n",
      "Collecting images for S\n",
      "Collecting images for S 0\n",
      "Collecting images for S 1\n",
      "Collecting images for S 2\n",
      "Collecting images for T\n",
      "Collecting images for T 0\n",
      "Collecting images for T 1\n",
      "Collecting images for T 2\n",
      "Collecting images for U\n",
      "Collecting images for U 0\n",
      "Collecting images for U 1\n",
      "Collecting images for U 2\n",
      "Collecting images for V\n",
      "Collecting images for V 0\n",
      "Collecting images for V 1\n",
      "Collecting images for V 2\n",
      "Collecting images for W\n",
      "Collecting images for W 0\n",
      "Collecting images for W 1\n",
      "Collecting images for W 2\n",
      "Collecting images for X\n",
      "Collecting images for X 0\n",
      "Collecting images for X 1\n",
      "Collecting images for X 2\n",
      "Collecting images for Y\n",
      "Collecting images for Y 0\n",
      "Collecting images for Y 1\n",
      "Collecting images for Y 2\n"
     ]
    }
   ],
   "source": [
    "import cv2\n",
    "\n",
    "cap = cv2.VideoCapture(0)\n",
    "for label in labels:\n",
    "    print(\"Collecting images for {}\".format(label))\n",
    "    time.sleep(5)\n",
    "    \n",
    "    for i in range(number_imgs):\n",
    "        print(\"Collecting images for \" + str(label) + \" \" + str(i))\n",
    "        ret, frame = cap.read()\n",
    "        img_name = os.path.join(IMAGES_PATH, label + \"-\" + str(i) + \".jpg\")\n",
    "        cv2.imwrite(img_name, frame)\n",
    "        cv2.imshow(\"Image\", frame)\n",
    "        time.sleep(2)\n",
    "        \n",
    "        if cv2.waitKey(10) & 0xFF == ord('q'):\n",
    "            break\n",
    "cap.release()\n",
    "cv2.destroyAllWindows()\n"
   ],
   "metadata": {
    "collapsed": false,
    "ExecuteTime": {
     "end_time": "2024-06-17T20:17:55.095936700Z",
     "start_time": "2024-06-17T20:13:14.023146900Z"
    }
   },
   "id": "c5f012876c4cdc1",
   "execution_count": 6
  },
  {
   "cell_type": "code",
   "outputs": [
    {
     "name": "stderr",
     "output_type": "stream",
     "text": [
      "Cloning into 'labelImg'...\n"
     ]
    }
   ],
   "source": [
    "!git clone https://github.com/HumanSignal/labelImg/"
   ],
   "metadata": {
    "collapsed": false,
    "ExecuteTime": {
     "end_time": "2024-06-17T22:18:22.696086400Z",
     "start_time": "2024-06-17T22:17:42.458028800Z"
    }
   },
   "id": "e69436ce135c3d1f",
   "execution_count": 7
  },
  {
   "cell_type": "code",
   "outputs": [
    {
     "name": "stdout",
     "output_type": "stream",
     "text": [
      "Defaulting to user installation because normal site-packages is not writeable\n",
      "Requirement already satisfied: pyqt5 in c:\\it\\anaconda3\\lib\\site-packages (5.15.10)\n",
      "Requirement already satisfied: lxml in c:\\it\\anaconda3\\lib\\site-packages (4.9.3)\n",
      "Collecting lxml\n",
      "  Downloading lxml-5.2.2-cp311-cp311-win_amd64.whl.metadata (3.5 kB)\n",
      "Requirement already satisfied: PyQt5-sip<13,>=12.13 in c:\\it\\anaconda3\\lib\\site-packages (from pyqt5) (12.13.0)\n",
      "Downloading lxml-5.2.2-cp311-cp311-win_amd64.whl (3.8 MB)\n",
      "   ---------------------------------------- 0.0/3.8 MB ? eta -:--:--\n",
      "   ---------------------------------------- 0.0/3.8 MB 1.3 MB/s eta 0:00:03\n",
      "   - -------------------------------------- 0.1/3.8 MB 1.8 MB/s eta 0:00:03\n",
      "   -------- ------------------------------- 0.8/3.8 MB 6.6 MB/s eta 0:00:01\n",
      "   ----------------------------- ---------- 2.8/3.8 MB 16.1 MB/s eta 0:00:01\n",
      "   ---------------------------------------- 3.8/3.8 MB 20.2 MB/s eta 0:00:00\n",
      "Installing collected packages: lxml\n",
      "Successfully installed lxml-5.2.2\n"
     ]
    }
   ],
   "source": [
    "!pip install pyqt5 lxml --upgrade\n",
    "!cd labelImg && pyrcc5 -o libs/resources.py resources.qrc"
   ],
   "metadata": {
    "collapsed": false,
    "ExecuteTime": {
     "end_time": "2024-06-17T22:23:24.823190Z",
     "start_time": "2024-06-17T22:23:14.441792100Z"
    }
   },
   "id": "378d2b8218a62a4d",
   "execution_count": 8
  },
  {
   "cell_type": "code",
   "outputs": [],
   "source": [],
   "metadata": {
    "collapsed": false
   },
   "id": "ee333d98fb9ba255"
  }
 ],
 "metadata": {
  "kernelspec": {
   "display_name": "Python 3",
   "language": "python",
   "name": "python3"
  },
  "language_info": {
   "codemirror_mode": {
    "name": "ipython",
    "version": 2
   },
   "file_extension": ".py",
   "mimetype": "text/x-python",
   "name": "python",
   "nbconvert_exporter": "python",
   "pygments_lexer": "ipython2",
   "version": "2.7.6"
  }
 },
 "nbformat": 4,
 "nbformat_minor": 5
}
