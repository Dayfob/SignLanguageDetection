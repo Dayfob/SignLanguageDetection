{
 "cells": [
  {
   "cell_type": "code",
   "outputs": [
    {
     "name": "stderr",
     "output_type": "stream",
     "text": [
      "python: can't open file 'C:\\\\Users\\\\semem\\\\OneDrive\\\\Desktop\\\\SignLanguageDetector\\\\YOLO_new\\\\train.py': [Errno 2] No such file or directory\n"
     ]
    }
   ],
   "source": [
    "# !cd yolov5\n",
    "# !python train.py --img 320 --epochs 500 --data ../dataset.yaml --weights yolov5m.pt\n"
   ],
   "metadata": {
    "collapsed": false,
    "ExecuteTime": {
     "end_time": "2024-06-17T22:53:54.729995200Z",
     "start_time": "2024-06-17T22:53:54.646192100Z"
    }
   },
   "id": "e75e7197e92445e8",
   "execution_count": 2
  },
  {
   "cell_type": "code",
   "outputs": [],
   "source": [],
   "metadata": {
    "collapsed": false
   },
   "id": "731dd582b83f7a7"
  }
 ],
 "metadata": {
  "kernelspec": {
   "display_name": "Python 3",
   "language": "python",
   "name": "python3"
  },
  "language_info": {
   "codemirror_mode": {
    "name": "ipython",
    "version": 2
   },
   "file_extension": ".py",
   "mimetype": "text/x-python",
   "name": "python",
   "nbconvert_exporter": "python",
   "pygments_lexer": "ipython2",
   "version": "2.7.6"
  }
 },
 "nbformat": 4,
 "nbformat_minor": 5
}
